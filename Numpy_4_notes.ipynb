{
  "cells": [
    {
      "cell_type": "markdown",
      "metadata": {
        "id": "WsOZ0jK4DE7w"
      },
      "source": [
        "# Numpy 4"
      ]
    },
    {
      "cell_type": "markdown",
      "source": [
        "---"
      ],
      "metadata": {
        "id": "coObBXmD-V6F"
      }
    },
    {
      "cell_type": "markdown",
      "source": [
        "## **Content**\n",
        "\n",
        "- **Shallow vs Deep Copy**\n",
        "  - `view()`\n",
        "  - `copy()`\n",
        "  - `deepcopy()`\n",
        "- **Array Splitting**\n",
        "  - `split()`\n",
        "  - `hsplit()`\n",
        "  - `vsplit()`\n",
        "- **Array Stacking**\n",
        "  - `hstack()`\n",
        "  - `vstack()`\n",
        "  - `concatenate()`\n",
        "- **Post Read** - Image Manipulation"
      ],
      "metadata": {
        "id": "wtDCstfk-Wvc"
      }
    },
    {
      "cell_type": "markdown",
      "source": [
        "---"
      ],
      "metadata": {
        "id": "TehwfY23-l-k"
      }
    },
    {
      "cell_type": "markdown",
      "metadata": {
        "id": "55aqxuW0NaA3"
      },
      "source": [
        "## **Views vs Copies (Shallow vs Deep Copy)**\n",
        "\n",
        "- Numpy **manages memory very efficiently**,\n",
        "- which makes it really **useful while dealing with large datasets**.\n",
        "\n",
        "**But how does it manage memory so efficiently?**\n",
        "\n",
        "- Let's create some arrays to understand what's happens while using numpy."
      ]
    },
    {
      "cell_type": "code",
      "source": [
        "import numpy as np"
      ],
      "metadata": {
        "id": "J5ZPzQzX4WrG"
      },
      "execution_count": null,
      "outputs": []
    },
    {
      "cell_type": "code",
      "execution_count": null,
      "metadata": {
        "colab": {
          "base_uri": "https://localhost:8080/"
        },
        "id": "2sa3ssR8PdIw",
        "outputId": "52fb5dcf-24df-4b76-a4f9-f0a238df0ba7"
      },
      "outputs": [
        {
          "output_type": "execute_result",
          "data": {
            "text/plain": [
              "array([0, 1, 2, 3])"
            ]
          },
          "metadata": {},
          "execution_count": 2
        }
      ],
      "source": [
        "# We'll create  a np array\n",
        "\n",
        "a = np.arange(4)\n",
        "a"
      ]
    },
    {
      "cell_type": "code",
      "execution_count": null,
      "metadata": {
        "colab": {
          "base_uri": "https://localhost:8080/"
        },
        "id": "07SC0oE3Pkp6",
        "outputId": "bb46a2f4-e4b7-4bd2-f9da-1eeafd6d41ab"
      },
      "outputs": [
        {
          "output_type": "execute_result",
          "data": {
            "text/plain": [
              "array([[0, 1],\n",
              "       [2, 3]])"
            ]
          },
          "metadata": {},
          "execution_count": 3
        }
      ],
      "source": [
        "# Reshape array `a` and store in `b`\n",
        "\n",
        "b = a.reshape(2, 2)\n",
        "b"
      ]
    },
    {
      "cell_type": "markdown",
      "metadata": {
        "id": "kRT6AKvuQBIS"
      },
      "source": [
        "Now we will make some changes to our original array `a`."
      ]
    },
    {
      "cell_type": "code",
      "execution_count": null,
      "metadata": {
        "colab": {
          "base_uri": "https://localhost:8080/"
        },
        "id": "znWE6xshPtd3",
        "outputId": "d000deb9-83c9-4aeb-9dcb-602042753883"
      },
      "outputs": [
        {
          "output_type": "execute_result",
          "data": {
            "text/plain": [
              "array([100,   1,   2,   3])"
            ]
          },
          "metadata": {},
          "execution_count": 4
        }
      ],
      "source": [
        "a[0] = 100\n",
        "a"
      ]
    },
    {
      "cell_type": "markdown",
      "metadata": {
        "id": "tuDyaPWvQLij"
      },
      "source": [
        "**What will be values if we print array `b`?**"
      ]
    },
    {
      "cell_type": "code",
      "execution_count": null,
      "metadata": {
        "colab": {
          "base_uri": "https://localhost:8080/"
        },
        "id": "z2O7NhaeQMCF",
        "outputId": "1d454109-c0ce-4fb0-b693-49909c9667a6"
      },
      "outputs": [
        {
          "output_type": "execute_result",
          "data": {
            "text/plain": [
              "array([[100,   1],\n",
              "       [  2,   3]])"
            ]
          },
          "metadata": {},
          "execution_count": 5
        }
      ],
      "source": [
        "\n",
        "b"
      ]
    },
    {
      "cell_type": "markdown",
      "source": [
        "- Array **`b` got automatically updated**\n",
        "\n",
        "**This is an example of numpy using `Shallow Copy` of data.**\n",
        "\n",
        "\\\n",
        "What happens here?\n",
        "\n",
        "- Numpy **re-uses data** as much as possible **instead of duplicating** it.\n",
        "- This helps numpy to be efficient.\n",
        "\n",
        "When we created `b=a.reshape(2,2)`\n",
        "\n",
        "- Numpy **did NOT make a copy of `a` to store in `b`**, as we can clearly see.\n",
        "- It is **using the same data as in `a`**.\n",
        "- It **just looks different (reshaped)** in `b`.\n",
        "- That is why, **any changes in `a` automatically gets reflected in `b`**."
      ],
      "metadata": {
        "id": "vmqATjhmOgIS"
      }
    },
    {
      "cell_type": "markdown",
      "source": [
        "---"
      ],
      "metadata": {
        "id": "wAPRF9Ws_8CO"
      }
    },
    {
      "cell_type": "markdown",
      "source": [
        "**Now, let's see an example where Numpy will create a `Deep Copy` of data.**"
      ],
      "metadata": {
        "id": "T1XrvAoCO1JM"
      }
    },
    {
      "cell_type": "code",
      "source": [
        "a = np.arange(4)\n",
        "a"
      ],
      "metadata": {
        "id": "j73S60aAHppQ",
        "colab": {
          "base_uri": "https://localhost:8080/"
        },
        "outputId": "8dbd0b3d-7040-4609-a6f1-cc9b9330f332"
      },
      "execution_count": null,
      "outputs": [
        {
          "output_type": "execute_result",
          "data": {
            "text/plain": [
              "array([0, 1, 2, 3])"
            ]
          },
          "metadata": {},
          "execution_count": 6
        }
      ]
    },
    {
      "cell_type": "code",
      "execution_count": null,
      "metadata": {
        "colab": {
          "base_uri": "https://localhost:8080/"
        },
        "id": "0TmAjZLaSNL0",
        "outputId": "bf9c0112-7c94-4f85-8ae2-e2bd2750ae71"
      },
      "outputs": [
        {
          "output_type": "execute_result",
          "data": {
            "text/plain": [
              "array([2, 3, 4, 5])"
            ]
          },
          "metadata": {},
          "execution_count": 7
        }
      ],
      "source": [
        "# Create `c`\n",
        "\n",
        "c = a + 2\n",
        "c"
      ]
    },
    {
      "cell_type": "code",
      "execution_count": null,
      "metadata": {
        "colab": {
          "base_uri": "https://localhost:8080/"
        },
        "id": "Fx-r53x6SRxx",
        "outputId": "9264894a-b0ef-4834-c5ef-24c9da583913"
      },
      "outputs": [
        {
          "output_type": "execute_result",
          "data": {
            "text/plain": [
              "array([100,   1,   2,   3])"
            ]
          },
          "metadata": {},
          "execution_count": 8
        }
      ],
      "source": [
        "# We make changes in `a`\n",
        "\n",
        "a[0] = 100\n",
        "a"
      ]
    },
    {
      "cell_type": "code",
      "execution_count": null,
      "metadata": {
        "colab": {
          "base_uri": "https://localhost:8080/"
        },
        "id": "Vaoho44ySaEM",
        "outputId": "0355cff4-6d96-4631-b4c9-f191313e70e9"
      },
      "outputs": [
        {
          "output_type": "execute_result",
          "data": {
            "text/plain": [
              "array([2, 3, 4, 5])"
            ]
          },
          "metadata": {},
          "execution_count": 9
        }
      ],
      "source": [
        "c"
      ]
    },
    {
      "cell_type": "code",
      "source": [
        "np.shares_memory(a, c) # Deep Copy"
      ],
      "metadata": {
        "colab": {
          "base_uri": "https://localhost:8080/"
        },
        "id": "_Byb0pBv92VU",
        "outputId": "2a787c32-2ac9-4cbb-880c-6223d0588f1d"
      },
      "execution_count": null,
      "outputs": [
        {
          "output_type": "execute_result",
          "data": {
            "text/plain": [
              "False"
            ]
          },
          "metadata": {},
          "execution_count": 10
        }
      ]
    },
    {
      "cell_type": "markdown",
      "metadata": {
        "id": "XL8BYU8FTBy9"
      },
      "source": [
        "As we can see, `c` did not get affected on changing `a`.\n",
        "\n",
        "- Because it is an operation.\n",
        "- A more **permanent change in data**.\n",
        "- So, Numpy **had to create a separate copy for `c`** - i.e., **deep copy of array `a` for array `c`**.\n",
        "\n",
        "#### Conclusion:\n",
        "\n",
        "- Numpy is able to **use same data** for **simpler operations** like **reshape** $\\rightarrow$ **Shallow Copy**.\n",
        "- It creates a **copy of data** where operations make **more permanent changes** to data $\\rightarrow$ **Deep Copy**.\n"
      ]
    },
    {
      "cell_type": "markdown",
      "source": [
        "---"
      ],
      "metadata": {
        "id": "QWTP2MMl_6kw"
      }
    },
    {
      "cell_type": "markdown",
      "source": [
        "**Is there a way to check whether two arrays are sharing memory or not?**\n",
        "\n",
        "- Yes, `np.shares_memory()` function"
      ],
      "metadata": {
        "id": "8L_-SxNwak8P"
      }
    },
    {
      "cell_type": "code",
      "execution_count": null,
      "metadata": {
        "colab": {
          "base_uri": "https://localhost:8080/"
        },
        "id": "Xuw4eSIWTCVO",
        "outputId": "319cd7a8-ba97-4ebf-8b78-338416449fdc"
      },
      "outputs": [
        {
          "output_type": "execute_result",
          "data": {
            "text/plain": [
              "array([0, 1, 2, 3, 4, 5, 6, 7, 8, 9])"
            ]
          },
          "metadata": {},
          "execution_count": 11
        }
      ],
      "source": [
        "a= np.arange(10)\n",
        "a"
      ]
    },
    {
      "cell_type": "code",
      "execution_count": null,
      "metadata": {
        "colab": {
          "base_uri": "https://localhost:8080/"
        },
        "id": "E7s3iku_TEJU",
        "outputId": "3359a131-7259-4add-c01b-e91c0c3b3eb3"
      },
      "outputs": [
        {
          "output_type": "execute_result",
          "data": {
            "text/plain": [
              "array([0, 2, 4, 6, 8])"
            ]
          },
          "metadata": {},
          "execution_count": 12
        }
      ],
      "source": [
        "b = a[::2]\n",
        "b"
      ]
    },
    {
      "cell_type": "code",
      "execution_count": null,
      "metadata": {
        "colab": {
          "base_uri": "https://localhost:8080/"
        },
        "id": "QOz24sY-THkx",
        "outputId": "c548f7e8-1539-4cf6-9991-927540ee3b04"
      },
      "outputs": [
        {
          "output_type": "execute_result",
          "data": {
            "text/plain": [
              "True"
            ]
          },
          "metadata": {},
          "execution_count": 13
        }
      ],
      "source": [
        "np.shares_memory(a,b)"
      ]
    },
    {
      "cell_type": "markdown",
      "metadata": {
        "id": "G3bgLfNQTS15"
      },
      "source": [
        "**Notice that Slicing creates shallow copies.**"
      ]
    },
    {
      "cell_type": "code",
      "execution_count": null,
      "metadata": {
        "id": "So6VTOLFTJJP"
      },
      "outputs": [],
      "source": [
        "a[0] = 1000"
      ]
    },
    {
      "cell_type": "code",
      "execution_count": null,
      "metadata": {
        "colab": {
          "base_uri": "https://localhost:8080/"
        },
        "id": "GMcwwY0HTZF-",
        "outputId": "61469a31-7550-4934-bc19-d7ddc3d4301b"
      },
      "outputs": [
        {
          "output_type": "execute_result",
          "data": {
            "text/plain": [
              "array([1000,    2,    4,    6,    8])"
            ]
          },
          "metadata": {},
          "execution_count": 15
        }
      ],
      "source": [
        "b"
      ]
    },
    {
      "cell_type": "markdown",
      "source": [
        "---"
      ],
      "metadata": {
        "id": "i3dWlWyk_5HR"
      }
    },
    {
      "cell_type": "code",
      "execution_count": null,
      "metadata": {
        "colab": {
          "base_uri": "https://localhost:8080/"
        },
        "id": "vfdq6MNBTdHQ",
        "outputId": "d9b0feeb-2b5b-4a1a-8de1-138a6bccf947"
      },
      "outputs": [
        {
          "output_type": "execute_result",
          "data": {
            "text/plain": [
              "array([0, 1, 2, 3, 4, 5])"
            ]
          },
          "metadata": {},
          "execution_count": 16
        }
      ],
      "source": [
        "a = np.arange(6)\n",
        "a"
      ]
    },
    {
      "cell_type": "code",
      "execution_count": null,
      "metadata": {
        "id": "4q5W3k6iTl8X",
        "colab": {
          "base_uri": "https://localhost:8080/"
        },
        "outputId": "0345bc8b-e284-43ef-eb77-db50e26f28e6"
      },
      "outputs": [
        {
          "output_type": "execute_result",
          "data": {
            "text/plain": [
              "array([0, 1, 2, 3, 4, 5])"
            ]
          },
          "metadata": {},
          "execution_count": 17
        }
      ],
      "source": [
        "b = a[a % 1 == 0]\n",
        "b"
      ]
    },
    {
      "cell_type": "code",
      "source": [
        "b[0] = 10"
      ],
      "metadata": {
        "id": "69u0UGNu-78k"
      },
      "execution_count": null,
      "outputs": []
    },
    {
      "cell_type": "code",
      "source": [
        "a[0]"
      ],
      "metadata": {
        "colab": {
          "base_uri": "https://localhost:8080/"
        },
        "id": "evQCN2o7--H6",
        "outputId": "9a426045-4af3-4d54-b220-23bbccd34708"
      },
      "execution_count": null,
      "outputs": [
        {
          "output_type": "execute_result",
          "data": {
            "text/plain": [
              "0"
            ]
          },
          "metadata": {},
          "execution_count": 19
        }
      ]
    },
    {
      "cell_type": "code",
      "execution_count": null,
      "metadata": {
        "colab": {
          "base_uri": "https://localhost:8080/"
        },
        "id": "pvvzRA7QToPR",
        "outputId": "e101aec2-e99b-49be-b243-50b59ccf4755"
      },
      "outputs": [
        {
          "output_type": "execute_result",
          "data": {
            "text/plain": [
              "False"
            ]
          },
          "metadata": {},
          "execution_count": 20
        }
      ],
      "source": [
        "np.shares_memory(a,b)"
      ]
    },
    {
      "cell_type": "markdown",
      "source": [
        "---"
      ],
      "metadata": {
        "id": "lNWrvz9DAEuw"
      }
    },
    {
      "cell_type": "markdown",
      "metadata": {
        "id": "Q9yATUkRUJ5z"
      },
      "source": [
        "**Note:**\n",
        "- Shallow Copy $\\rightarrow$ Reshaping, Slicing...\n",
        "- Deep Copy $\\rightarrow$ Arithmetic Operations, Masking..."
      ]
    },
    {
      "cell_type": "code",
      "source": [
        "a = np.arange(10)"
      ],
      "metadata": {
        "id": "Majrksxo_K3y"
      },
      "execution_count": null,
      "outputs": []
    },
    {
      "cell_type": "code",
      "source": [
        "a_shallow_copy = a.view()\n",
        "# Creates a shallow copy of `a`"
      ],
      "metadata": {
        "id": "Qh0H24qu_OAD"
      },
      "execution_count": null,
      "outputs": []
    },
    {
      "cell_type": "code",
      "source": [
        "np.shares_memory(a_shallow_copy, a)"
      ],
      "metadata": {
        "colab": {
          "base_uri": "https://localhost:8080/"
        },
        "id": "Dkw-YD6Y_Phc",
        "outputId": "0473bdc1-70db-422a-9c75-5537cc786990"
      },
      "execution_count": null,
      "outputs": [
        {
          "output_type": "execute_result",
          "data": {
            "text/plain": [
              "True"
            ]
          },
          "metadata": {},
          "execution_count": 23
        }
      ]
    },
    {
      "cell_type": "code",
      "source": [
        "a_deep_copy = a.copy()\n",
        "# Creates a deep copy of `a`"
      ],
      "metadata": {
        "id": "pcuGQNLw_PZK"
      },
      "execution_count": null,
      "outputs": []
    },
    {
      "cell_type": "code",
      "source": [
        "np.shares_memory(a_deep_copy, a)\n"
      ],
      "metadata": {
        "colab": {
          "base_uri": "https://localhost:8080/"
        },
        "id": "CyrONo5u_S3P",
        "outputId": "ee7a60c0-5c6a-4eb5-db8a-f05a85c7033b"
      },
      "execution_count": null,
      "outputs": [
        {
          "output_type": "execute_result",
          "data": {
            "text/plain": [
              "False"
            ]
          },
          "metadata": {},
          "execution_count": 25
        }
      ]
    },
    {
      "cell_type": "markdown",
      "source": [
        "---"
      ],
      "metadata": {
        "id": "vAPMl_ccEU9y"
      }
    },
    {
      "cell_type": "markdown",
      "metadata": {
        "id": "_Goeq_EUUS6H"
      },
      "source": [
        "#### `.view()`\n",
        "\n",
        "- Returns view of the original array.\n",
        "- Any changes made in new array will be reflected in original array.\n",
        "\n",
        "Documentation: https://numpy.org/doc/stable/reference/generated/numpy.ndarray.view.html\n",
        "\n"
      ]
    },
    {
      "cell_type": "code",
      "execution_count": null,
      "metadata": {
        "colab": {
          "base_uri": "https://localhost:8080/"
        },
        "id": "qAjbR-W4Tq-a",
        "outputId": "f2d0b8c0-2d0b-44ff-a089-bcd306899449"
      },
      "outputs": [
        {
          "output_type": "execute_result",
          "data": {
            "text/plain": [
              "array([0, 1, 2, 3, 4, 5, 6, 7, 8, 9])"
            ]
          },
          "metadata": {},
          "execution_count": 26
        }
      ],
      "source": [
        "arr = np.arange(10)\n",
        "arr"
      ]
    },
    {
      "cell_type": "code",
      "execution_count": null,
      "metadata": {
        "colab": {
          "base_uri": "https://localhost:8080/"
        },
        "id": "ml-JqiokUVB0",
        "outputId": "702c0ad9-3bd6-47cd-9922-1c52cc4658d6"
      },
      "outputs": [
        {
          "output_type": "execute_result",
          "data": {
            "text/plain": [
              "array([0, 1, 2, 3, 4, 5, 6, 7, 8, 9])"
            ]
          },
          "metadata": {},
          "execution_count": 27
        }
      ],
      "source": [
        "view_arr = arr.view()\n",
        "view_arr"
      ]
    },
    {
      "cell_type": "markdown",
      "source": [
        "Let's modify the content of `view_arr` and check whether it modified the original array as well."
      ],
      "metadata": {
        "id": "EZ3nFiyOS78W"
      }
    },
    {
      "cell_type": "code",
      "execution_count": null,
      "metadata": {
        "colab": {
          "base_uri": "https://localhost:8080/"
        },
        "id": "6cOA9BxiUaat",
        "outputId": "db7ff581-5475-4ccc-f219-49d0fb5747eb"
      },
      "outputs": [
        {
          "output_type": "execute_result",
          "data": {
            "text/plain": [
              "array([  0,   1,   2,   3, 420,   5,   6,   7,   8,   9])"
            ]
          },
          "metadata": {},
          "execution_count": 28
        }
      ],
      "source": [
        "view_arr[4] = 420\n",
        "view_arr"
      ]
    },
    {
      "cell_type": "code",
      "execution_count": null,
      "metadata": {
        "colab": {
          "base_uri": "https://localhost:8080/"
        },
        "id": "_wXimWACUgS2",
        "outputId": "cc704faf-413d-4053-ec00-e7370b169c78"
      },
      "outputs": [
        {
          "output_type": "execute_result",
          "data": {
            "text/plain": [
              "array([  0,   1,   2,   3, 420,   5,   6,   7,   8,   9])"
            ]
          },
          "metadata": {},
          "execution_count": 29
        }
      ],
      "source": [
        "arr"
      ]
    },
    {
      "cell_type": "code",
      "source": [
        "np.shares_memory(arr, view_arr)"
      ],
      "metadata": {
        "colab": {
          "base_uri": "https://localhost:8080/"
        },
        "id": "2HOtrCW8HSaJ",
        "outputId": "46c59ab5-6fbc-4e3c-c04e-1f06ef6f03f8"
      },
      "execution_count": null,
      "outputs": [
        {
          "output_type": "execute_result",
          "data": {
            "text/plain": [
              "True"
            ]
          },
          "metadata": {},
          "execution_count": 30
        }
      ]
    },
    {
      "cell_type": "markdown",
      "metadata": {
        "id": "aLmWKlL2UoYa"
      },
      "source": [
        "Notice that changes in view array are reflected in original array."
      ]
    },
    {
      "cell_type": "markdown",
      "source": [
        "---"
      ],
      "metadata": {
        "id": "Ow38jhk6Tvg5"
      }
    },
    {
      "cell_type": "markdown",
      "metadata": {
        "id": "KXIyxRMfUw4R"
      },
      "source": [
        "#### `.copy()`\n",
        "\n",
        "- Returns a copy of the array.\n",
        "- Changes made in new array are not reflected in the original array.\n",
        "\n",
        "Documentation (`.copy()`): https://numpy.org/doc/stable/reference/generated/numpy.ndarray.copy.html#numpy.ndarray.copy\n",
        "\n",
        "Documentation: (`np.copy()`): https://numpy.org/doc/stable/reference/generated/numpy.copy.html"
      ]
    },
    {
      "cell_type": "code",
      "execution_count": null,
      "metadata": {
        "colab": {
          "base_uri": "https://localhost:8080/"
        },
        "id": "kVELO-YFUkhQ",
        "outputId": "1ecc9370-c6fd-4a35-e5b2-e7be5596f2fb"
      },
      "outputs": [
        {
          "output_type": "execute_result",
          "data": {
            "text/plain": [
              "array([0, 1, 2, 3, 4, 5, 6, 7, 8, 9])"
            ]
          },
          "metadata": {},
          "execution_count": 31
        }
      ],
      "source": [
        "arr = np.arange(10)\n",
        "arr"
      ]
    },
    {
      "cell_type": "code",
      "execution_count": null,
      "metadata": {
        "colab": {
          "base_uri": "https://localhost:8080/"
        },
        "id": "-GaSL1Z5Uy1-",
        "outputId": "7f82f45e-694c-4263-d42f-a45865eb101a"
      },
      "outputs": [
        {
          "output_type": "execute_result",
          "data": {
            "text/plain": [
              "array([0, 1, 2, 3, 4, 5, 6, 7, 8, 9])"
            ]
          },
          "metadata": {},
          "execution_count": 32
        }
      ],
      "source": [
        "copy_arr = arr.copy()\n",
        "copy_arr"
      ]
    },
    {
      "cell_type": "markdown",
      "metadata": {
        "id": "IcoY_jSKU3jN"
      },
      "source": [
        "Let's modify the content of `copy_arr` and check whether it modified the original array as well."
      ]
    },
    {
      "cell_type": "code",
      "execution_count": null,
      "metadata": {
        "colab": {
          "base_uri": "https://localhost:8080/"
        },
        "id": "lnHrNDt1U0JW",
        "outputId": "b2167dfb-e6b2-4698-a060-5db5022f7105"
      },
      "outputs": [
        {
          "output_type": "execute_result",
          "data": {
            "text/plain": [
              "array([ 0,  1,  2, 45,  4,  5,  6,  7,  8,  9])"
            ]
          },
          "metadata": {},
          "execution_count": 33
        }
      ],
      "source": [
        "copy_arr[3] = 45\n",
        "copy_arr"
      ]
    },
    {
      "cell_type": "code",
      "execution_count": null,
      "metadata": {
        "colab": {
          "base_uri": "https://localhost:8080/"
        },
        "id": "JSgNdmIeU-MT",
        "outputId": "5c251bfd-5061-4771-808a-a275df710f06"
      },
      "outputs": [
        {
          "output_type": "execute_result",
          "data": {
            "text/plain": [
              "array([0, 1, 2, 3, 4, 5, 6, 7, 8, 9])"
            ]
          },
          "metadata": {},
          "execution_count": 34
        }
      ],
      "source": [
        "arr"
      ]
    },
    {
      "cell_type": "code",
      "source": [
        "np.shares_memory(arr, copy)"
      ],
      "metadata": {
        "id": "0jktcCnsE6vl",
        "colab": {
          "base_uri": "https://localhost:8080/",
          "height": 179
        },
        "outputId": "3f7c3b3e-a16d-47b2-d75d-4262aec9d81d"
      },
      "execution_count": null,
      "outputs": [
        {
          "output_type": "error",
          "ename": "NameError",
          "evalue": "name 'copy' is not defined",
          "traceback": [
            "\u001b[0;31m---------------------------------------------------------------------------\u001b[0m",
            "\u001b[0;31mNameError\u001b[0m                                 Traceback (most recent call last)",
            "\u001b[0;32m<ipython-input-35-84a6cba2b044>\u001b[0m in \u001b[0;36m<cell line: 1>\u001b[0;34m()\u001b[0m\n\u001b[0;32m----> 1\u001b[0;31m \u001b[0mnp\u001b[0m\u001b[0;34m.\u001b[0m\u001b[0mshares_memory\u001b[0m\u001b[0;34m(\u001b[0m\u001b[0marr\u001b[0m\u001b[0;34m,\u001b[0m \u001b[0mcopy\u001b[0m\u001b[0;34m)\u001b[0m\u001b[0;34m\u001b[0m\u001b[0;34m\u001b[0m\u001b[0m\n\u001b[0m",
            "\u001b[0;31mNameError\u001b[0m: name 'copy' is not defined"
          ]
        }
      ]
    },
    {
      "cell_type": "markdown",
      "metadata": {
        "id": "5pvkh-ktVOGD"
      },
      "source": [
        "Notice that the content of original array were not modified as we changed our copy array.\n"
      ]
    },
    {
      "cell_type": "markdown",
      "metadata": {
        "id": "BtgrWY9iVVqG"
      },
      "source": [
        "---"
      ]
    },
    {
      "cell_type": "markdown",
      "metadata": {
        "id": "P16drlNXVs_Q"
      },
      "source": [
        "### What are object arrays?\n",
        "\n",
        "- Object arrays are basically array of any Python datatype.\n",
        "\n",
        "Documentation: https://numpy.org/devdocs/reference/arrays.scalars.html#numpy.object"
      ]
    },
    {
      "cell_type": "code",
      "execution_count": null,
      "metadata": {
        "colab": {
          "base_uri": "https://localhost:8080/"
        },
        "id": "Oz9s1FzLU_kg",
        "outputId": "bae04daa-8c6d-489f-ffc3-cf01fb374817"
      },
      "outputs": [
        {
          "output_type": "execute_result",
          "data": {
            "text/plain": [
              "array([1, 'm', list([1, 2, 3])], dtype=object)"
            ]
          },
          "metadata": {},
          "execution_count": 35
        }
      ],
      "source": [
        "arr = np.array([1, 'm', [1,2,3]], dtype = 'object')\n",
        "arr"
      ]
    },
    {
      "cell_type": "markdown",
      "metadata": {
        "id": "Bh8b879bVgt0"
      },
      "source": [
        "There is an exception to `.copy()`:\n",
        "- **`.copy()` behaves as shallow copy when using `dtype='object'` array**.\n",
        "- It will not copy object elements within arrays."
      ]
    },
    {
      "cell_type": "markdown",
      "metadata": {
        "id": "YcqFdjX6W8Lx"
      },
      "source": [
        "#### But arrays are supposed to be homogeous data. How is it storing data of various types?\n",
        "\n",
        "Remember that everything is object in Python.\n",
        "\n",
        "Just like Python list,\n",
        "- The data actually **stored** in object arrays are **references to Python objects**, not the objects themselves.\n",
        "\n",
        "Hence, their elements need not be of the same Python type.\n",
        "\n",
        "**As every element in array is an object, therefore the dtype=object.**"
      ]
    },
    {
      "cell_type": "markdown",
      "metadata": {
        "id": "TfarCBPyW-mf"
      },
      "source": [
        "<img src=\"https://d2beiqkhq929f0.cloudfront.net/public_assets/assets/000/065/263/original/img.png?1708017404\" width=\"700\" height=\"100\">"
      ]
    },
    {
      "cell_type": "markdown",
      "metadata": {
        "id": "mWDFsb5iXBg_"
      },
      "source": [
        "Let's make a copy of object array and check whether it returns a shallow copy or deep copy."
      ]
    },
    {
      "cell_type": "code",
      "execution_count": null,
      "metadata": {
        "id": "RRUQXI9gV12U"
      },
      "outputs": [],
      "source": [
        "copy_arr = arr.copy()"
      ]
    },
    {
      "cell_type": "code",
      "execution_count": null,
      "metadata": {
        "colab": {
          "base_uri": "https://localhost:8080/"
        },
        "id": "n_ULB6UkXEGX",
        "outputId": "47e628a1-989d-4e4e-8890-1268c98fdbe7"
      },
      "outputs": [
        {
          "output_type": "execute_result",
          "data": {
            "text/plain": [
              "array([1, 'm', list([1, 2, 3])], dtype=object)"
            ]
          },
          "metadata": {},
          "execution_count": 37
        }
      ],
      "source": [
        "copy_arr"
      ]
    },
    {
      "cell_type": "markdown",
      "metadata": {
        "id": "Y2ERIA6nXIy3"
      },
      "source": [
        "Now, let's try to modify the list elements in `copy_arr`."
      ]
    },
    {
      "cell_type": "code",
      "execution_count": null,
      "metadata": {
        "id": "auIFTAt1XFp9"
      },
      "outputs": [],
      "source": [
        "copy_arr[2][0] = 999"
      ]
    },
    {
      "cell_type": "code",
      "execution_count": null,
      "metadata": {
        "colab": {
          "base_uri": "https://localhost:8080/"
        },
        "id": "dPE94OQgXMZ7",
        "outputId": "e8477980-244b-4417-b55b-a92e472c4bf4"
      },
      "outputs": [
        {
          "output_type": "execute_result",
          "data": {
            "text/plain": [
              "array([1, 'm', list([999, 2, 3])], dtype=object)"
            ]
          },
          "metadata": {},
          "execution_count": 39
        }
      ],
      "source": [
        "copy_arr"
      ]
    },
    {
      "cell_type": "markdown",
      "metadata": {
        "id": "8Do-aNUpXQyk"
      },
      "source": [
        "Let's see if it changed the original array as well."
      ]
    },
    {
      "cell_type": "code",
      "execution_count": null,
      "metadata": {
        "colab": {
          "base_uri": "https://localhost:8080/"
        },
        "id": "zNn7JTfeXNpG",
        "outputId": "57abecc8-cb56-4520-80c7-d0eb010725ca"
      },
      "outputs": [
        {
          "output_type": "execute_result",
          "data": {
            "text/plain": [
              "array([1, 'm', list([999, 2, 3])], dtype=object)"
            ]
          },
          "metadata": {},
          "execution_count": 40
        }
      ],
      "source": [
        "arr"
      ]
    },
    {
      "cell_type": "markdown",
      "metadata": {
        "id": "HeyJKbZ6XdFd"
      },
      "source": [
        "It did change the original array.\n",
        "\n",
        "Hence, **`.copy()` will return shallow copy when copying elements of array in object array.**\n",
        "\n",
        "Any change in the 2nd level elements of array will be reflected in original array as well."
      ]
    },
    {
      "cell_type": "markdown",
      "metadata": {
        "id": "sO4jpHpIXf-R"
      },
      "source": [
        "So, how do we create deep copy then?\n",
        "\n",
        "We can do so using `copy.deepcopy()` method."
      ]
    },
    {
      "cell_type": "markdown",
      "metadata": {
        "id": "Dvd_5JUwXjT0"
      },
      "source": [
        "#### `copy.deepcopy()`\n",
        "\n",
        "- Returns the deep copy of an array.\n",
        "\n",
        "Documentation: https://docs.python.org/3/library/copy.html#copy.deepcopy"
      ]
    },
    {
      "cell_type": "code",
      "execution_count": null,
      "metadata": {
        "id": "c1uV-6UGXSlj"
      },
      "outputs": [],
      "source": [
        "import copy"
      ]
    },
    {
      "cell_type": "code",
      "execution_count": null,
      "metadata": {
        "colab": {
          "base_uri": "https://localhost:8080/"
        },
        "id": "vX2RDEGCXlgK",
        "outputId": "01e2feba-a219-4c57-dc71-0b86544f4892"
      },
      "outputs": [
        {
          "output_type": "execute_result",
          "data": {
            "text/plain": [
              "array([1, 'm', list([1, 2, 3])], dtype=object)"
            ]
          },
          "metadata": {},
          "execution_count": 42
        }
      ],
      "source": [
        "arr = np.array([1, 'm', [1,2,3]], dtype = 'object')\n",
        "arr"
      ]
    },
    {
      "cell_type": "markdown",
      "metadata": {
        "id": "pW-Rcm3BXp7k"
      },
      "source": [
        "Let's make a copy using `deepcopy()`."
      ]
    },
    {
      "cell_type": "code",
      "execution_count": null,
      "metadata": {
        "id": "HThnLBvGXnvx",
        "colab": {
          "base_uri": "https://localhost:8080/"
        },
        "outputId": "2dfdf4ec-52d3-48d0-eba6-a89ed6a06071"
      },
      "outputs": [
        {
          "output_type": "execute_result",
          "data": {
            "text/plain": [
              "array([1, 'm', list([1, 2, 3])], dtype=object)"
            ]
          },
          "metadata": {},
          "execution_count": 43
        }
      ],
      "source": [
        "copy = copy.deepcopy(arr)\n",
        "copy"
      ]
    },
    {
      "cell_type": "markdown",
      "metadata": {
        "id": "h6jEc-GuXva2"
      },
      "source": [
        "Let's modify the array inside copy array."
      ]
    },
    {
      "cell_type": "code",
      "execution_count": null,
      "metadata": {
        "id": "mOhozQEpXtNa",
        "colab": {
          "base_uri": "https://localhost:8080/"
        },
        "outputId": "adb133a9-2bc3-4d3b-8587-aa84b06b0ea3"
      },
      "outputs": [
        {
          "output_type": "execute_result",
          "data": {
            "text/plain": [
              "array([1, 'm', list([999, 2, 3])], dtype=object)"
            ]
          },
          "metadata": {},
          "execution_count": 44
        }
      ],
      "source": [
        "copy[2][0] = 999\n",
        "copy"
      ]
    },
    {
      "cell_type": "code",
      "execution_count": null,
      "metadata": {
        "colab": {
          "base_uri": "https://localhost:8080/"
        },
        "id": "KVOIIcIjXzSD",
        "outputId": "b3f03288-feb6-4181-b4fd-394fc53fa9b0"
      },
      "outputs": [
        {
          "output_type": "execute_result",
          "data": {
            "text/plain": [
              "array([1, 'm', list([1, 2, 3])], dtype=object)"
            ]
          },
          "metadata": {},
          "execution_count": 45
        }
      ],
      "source": [
        "arr"
      ]
    },
    {
      "cell_type": "markdown",
      "metadata": {
        "id": "pyX2oIH_X8YU"
      },
      "source": [
        "Notice that the changes in copy array didn't reflect back to original array.\n",
        "\n",
        "`copy.deepcopy()` **returns deep copy of an array.**"
      ]
    },
    {
      "cell_type": "markdown",
      "source": [
        "---"
      ],
      "metadata": {
        "id": "Rr0G1JiSvtjr"
      }
    },
    {
      "cell_type": "markdown",
      "metadata": {
        "id": "jnuDMlDFY9VC"
      },
      "source": [
        "## **Splitting**\n",
        "\n",
        "In addition to reshaping and selecting subarrays, it is often necessary to split arrays into smaller arrays or merge arrays into bigger arrays."
      ]
    },
    {
      "cell_type": "markdown",
      "metadata": {
        "id": "vGhhD0AGZGo-"
      },
      "source": [
        "#### `np.split()`\n",
        "\n",
        "- Splits an array into multiple sub-arrays as views.\n",
        "\n",
        "**It takes an argument `indices_or_sections`.**\n",
        "\n",
        "- If `indices_or_sections` is an **integer, n**, the array will be **divided into n equal arrays along axis**.\n",
        "\n",
        "- If such a split is not possible, an error is raised.\n",
        "\n",
        "- If `indices_or_sections` is a **1-D array of sorted integers**, the entries indicate **where along axis the array is split**.\n",
        "\n",
        "- If an index **exceeds the dimension of the array along axis**, an **empty sub-array is returned** correspondingly."
      ]
    },
    {
      "cell_type": "code",
      "execution_count": null,
      "metadata": {
        "colab": {
          "base_uri": "https://localhost:8080/"
        },
        "id": "9_DiIG55ZDfG",
        "outputId": "fb58e47e-a1ad-4bc9-fdb5-1a670e64a92e"
      },
      "outputs": [
        {
          "output_type": "execute_result",
          "data": {
            "text/plain": [
              "array([0, 1, 2, 3, 4, 5, 6, 7, 8])"
            ]
          },
          "metadata": {},
          "execution_count": 36
        }
      ],
      "source": [
        "x = np.arange(9)\n",
        "x"
      ]
    },
    {
      "cell_type": "code",
      "execution_count": null,
      "metadata": {
        "colab": {
          "base_uri": "https://localhost:8080/"
        },
        "id": "I5BLNUDlZPCX",
        "outputId": "0acdfa24-29c7-4a3e-c8a1-0ca20e6ac658"
      },
      "outputs": [
        {
          "output_type": "execute_result",
          "data": {
            "text/plain": [
              "[array([0, 1, 2]), array([3, 4, 5]), array([6, 7, 8])]"
            ]
          },
          "metadata": {},
          "execution_count": 37
        }
      ],
      "source": [
        "np.split(x, 3)"
      ]
    },
    {
      "cell_type": "markdown",
      "source": [
        "**IMPORTANT REQUISITE**\n",
        "\n",
        "- Number of elements in the array should be divisible by number of sections."
      ],
      "metadata": {
        "id": "YEFUwXlNAAt8"
      }
    },
    {
      "cell_type": "code",
      "source": [
        "b = np.arange(10)\n",
        "np.split(b, 3)"
      ],
      "metadata": {
        "colab": {
          "base_uri": "https://localhost:8080/",
          "height": 346
        },
        "id": "rxbV5iiCAEs7",
        "outputId": "93f0150f-ab02-4490-d15f-5075008719fe"
      },
      "execution_count": null,
      "outputs": [
        {
          "output_type": "error",
          "ename": "ValueError",
          "evalue": "array split does not result in an equal division",
          "traceback": [
            "\u001b[0;31m---------------------------------------------------------------------------\u001b[0m",
            "\u001b[0;31mValueError\u001b[0m                                Traceback (most recent call last)",
            "\u001b[0;32m<ipython-input-38-5033f171e13f>\u001b[0m in \u001b[0;36m<cell line: 2>\u001b[0;34m()\u001b[0m\n\u001b[1;32m      1\u001b[0m \u001b[0mb\u001b[0m \u001b[0;34m=\u001b[0m \u001b[0mnp\u001b[0m\u001b[0;34m.\u001b[0m\u001b[0marange\u001b[0m\u001b[0;34m(\u001b[0m\u001b[0;36m10\u001b[0m\u001b[0;34m)\u001b[0m\u001b[0;34m\u001b[0m\u001b[0;34m\u001b[0m\u001b[0m\n\u001b[0;32m----> 2\u001b[0;31m \u001b[0mnp\u001b[0m\u001b[0;34m.\u001b[0m\u001b[0msplit\u001b[0m\u001b[0;34m(\u001b[0m\u001b[0mb\u001b[0m\u001b[0;34m,\u001b[0m \u001b[0;36m3\u001b[0m\u001b[0;34m)\u001b[0m\u001b[0;34m\u001b[0m\u001b[0;34m\u001b[0m\u001b[0m\n\u001b[0m",
            "\u001b[0;32m/usr/local/lib/python3.10/dist-packages/numpy/core/overrides.py\u001b[0m in \u001b[0;36msplit\u001b[0;34m(*args, **kwargs)\u001b[0m\n",
            "\u001b[0;32m/usr/local/lib/python3.10/dist-packages/numpy/lib/shape_base.py\u001b[0m in \u001b[0;36msplit\u001b[0;34m(ary, indices_or_sections, axis)\u001b[0m\n\u001b[1;32m    870\u001b[0m         \u001b[0mN\u001b[0m \u001b[0;34m=\u001b[0m \u001b[0mary\u001b[0m\u001b[0;34m.\u001b[0m\u001b[0mshape\u001b[0m\u001b[0;34m[\u001b[0m\u001b[0maxis\u001b[0m\u001b[0;34m]\u001b[0m\u001b[0;34m\u001b[0m\u001b[0;34m\u001b[0m\u001b[0m\n\u001b[1;32m    871\u001b[0m         \u001b[0;32mif\u001b[0m \u001b[0mN\u001b[0m \u001b[0;34m%\u001b[0m \u001b[0msections\u001b[0m\u001b[0;34m:\u001b[0m\u001b[0;34m\u001b[0m\u001b[0;34m\u001b[0m\u001b[0m\n\u001b[0;32m--> 872\u001b[0;31m             raise ValueError(\n\u001b[0m\u001b[1;32m    873\u001b[0m                 'array split does not result in an equal division') from None\n\u001b[1;32m    874\u001b[0m     \u001b[0;32mreturn\u001b[0m \u001b[0marray_split\u001b[0m\u001b[0;34m(\u001b[0m\u001b[0mary\u001b[0m\u001b[0;34m,\u001b[0m \u001b[0mindices_or_sections\u001b[0m\u001b[0;34m,\u001b[0m \u001b[0maxis\u001b[0m\u001b[0;34m)\u001b[0m\u001b[0;34m\u001b[0m\u001b[0;34m\u001b[0m\u001b[0m\n",
            "\u001b[0;31mValueError\u001b[0m: array split does not result in an equal division"
          ]
        }
      ]
    },
    {
      "cell_type": "code",
      "source": [
        "b[0:-1]\n",
        "np.split(b[0:-1], 3)"
      ],
      "metadata": {
        "id": "J3Dxeq0ZAJT7"
      },
      "execution_count": null,
      "outputs": []
    },
    {
      "cell_type": "code",
      "execution_count": null,
      "metadata": {
        "id": "AmVtzJWSZaC9",
        "colab": {
          "base_uri": "https://localhost:8080/"
        },
        "outputId": "34461f98-33ea-479a-d079-dd8a11a8dde4"
      },
      "outputs": [
        {
          "output_type": "execute_result",
          "data": {
            "text/plain": [
              "[array([0, 1, 2]),\n",
              " array([3, 4]),\n",
              " array([5]),\n",
              " array([ 6,  7,  8,  9, 10, 11, 12, 13, 14, 15])]"
            ]
          },
          "metadata": {},
          "execution_count": 39
        }
      ],
      "source": [
        "# Splitting on the basis of exact indices\n",
        "\n",
        "c = np.arange(16)\n",
        "np.split(c, [3, 5, 6])"
      ]
    },
    {
      "cell_type": "markdown",
      "source": [
        "---"
      ],
      "metadata": {
        "id": "v5qpDZjyHT8M"
      }
    },
    {
      "cell_type": "markdown",
      "metadata": {
        "id": "nGECEMdRZ2Pe"
      },
      "source": [
        "#### `np.hsplit()`\n",
        "\n",
        "- Splits an array into multiple sub-arrays **horizontally (column-wise)**."
      ]
    },
    {
      "cell_type": "code",
      "execution_count": null,
      "metadata": {
        "colab": {
          "base_uri": "https://localhost:8080/"
        },
        "id": "7CRaE1_LZzy-",
        "outputId": "b96b4d46-3380-4617-92fc-976603e03bba"
      },
      "outputs": [
        {
          "output_type": "execute_result",
          "data": {
            "text/plain": [
              "array([[ 0.,  1.,  2.,  3.],\n",
              "       [ 4.,  5.,  6.,  7.],\n",
              "       [ 8.,  9., 10., 11.],\n",
              "       [12., 13., 14., 15.]])"
            ]
          },
          "metadata": {},
          "execution_count": 40
        }
      ],
      "source": [
        "x = np.arange(16.0).reshape(4, 4)\n",
        "x"
      ]
    },
    {
      "cell_type": "markdown",
      "source": [
        "Think of it this way:\n",
        "\n",
        "  - There are 2 axis to a 2D array\n",
        "    1. **1st axis - Vertical axis**\n",
        "    2. **2nd axis - Horizontal axis**"
      ],
      "metadata": {
        "id": "wHWT79L2ITvB"
      }
    },
    {
      "cell_type": "markdown",
      "metadata": {
        "id": "YIiUUHkGaSNZ"
      },
      "source": [
        "**Along which axis are we splitting the array?**\n",
        "\n",
        "- The split we want happens across the **2nd axis (Horizontal axis)**\n",
        "- That is why we use `hsplit()`\n",
        "\n",
        "**So, try to think in terms of \"whether the operation is happening along vertical axis or horizontal axis\".**\n",
        "\n",
        "- We are splitting the horizontal axis in this case."
      ]
    },
    {
      "cell_type": "code",
      "execution_count": null,
      "metadata": {
        "colab": {
          "base_uri": "https://localhost:8080/"
        },
        "id": "bF5SwuSUZ9Po",
        "outputId": "fff14045-2fa7-4df3-8b1b-1b5e1b323173"
      },
      "outputs": [
        {
          "output_type": "execute_result",
          "data": {
            "text/plain": [
              "[array([[ 0.,  1.],\n",
              "        [ 4.,  5.],\n",
              "        [ 8.,  9.],\n",
              "        [12., 13.]]),\n",
              " array([[ 2.,  3.],\n",
              "        [ 6.,  7.],\n",
              "        [10., 11.],\n",
              "        [14., 15.]])]"
            ]
          },
          "metadata": {},
          "execution_count": 41
        }
      ],
      "source": [
        "np.hsplit(x, 2)"
      ]
    },
    {
      "cell_type": "code",
      "execution_count": null,
      "metadata": {
        "colab": {
          "base_uri": "https://localhost:8080/"
        },
        "id": "notszTQuaUNA",
        "outputId": "8de6d4fc-e62b-4270-f804-f31e536a855d"
      },
      "outputs": [
        {
          "output_type": "execute_result",
          "data": {
            "text/plain": [
              "[array([[ 0.,  1.,  2.],\n",
              "        [ 4.,  5.,  6.],\n",
              "        [ 8.,  9., 10.],\n",
              "        [12., 13., 14.]]),\n",
              " array([[ 3.],\n",
              "        [ 7.],\n",
              "        [11.],\n",
              "        [15.]]),\n",
              " array([], shape=(4, 0), dtype=float64)]"
            ]
          },
          "metadata": {},
          "execution_count": 42
        }
      ],
      "source": [
        "np.hsplit(x, np.array([3, 6]))"
      ]
    },
    {
      "cell_type": "markdown",
      "source": [
        "---"
      ],
      "metadata": {
        "id": "qvr7zKZCIN0t"
      }
    },
    {
      "cell_type": "markdown",
      "metadata": {
        "id": "DnEV-I8jaejl"
      },
      "source": [
        "#### `np.vsplit()`\n",
        "\n",
        "- Splits an array into multiple sub-arrays **vertically (row-wise)**."
      ]
    },
    {
      "cell_type": "code",
      "execution_count": null,
      "metadata": {
        "colab": {
          "base_uri": "https://localhost:8080/"
        },
        "id": "G4brs6CsabDw",
        "outputId": "84e2571c-a155-4926-b684-3b64ed8fa2e0"
      },
      "outputs": [
        {
          "output_type": "execute_result",
          "data": {
            "text/plain": [
              "array([[ 0.,  1.,  2.,  3.],\n",
              "       [ 4.,  5.,  6.,  7.],\n",
              "       [ 8.,  9., 10., 11.],\n",
              "       [12., 13., 14., 15.]])"
            ]
          },
          "metadata": {},
          "execution_count": 43
        }
      ],
      "source": [
        "x = np.arange(16.0).reshape(4, 4)\n",
        "x"
      ]
    },
    {
      "cell_type": "markdown",
      "metadata": {
        "id": "1OUbx8yRamQs"
      },
      "source": [
        "**Now, along which axis are we splitting the array?**\n",
        "\n",
        "- The split we want happens across the **1st axis (Vertical axis)**\n",
        "- That is why we use `vsplit()`\n",
        "\n",
        "**Again, always try to think in terms of \"whether the operation is happening along vertical axis or horizontal axis\".**\n",
        "\n",
        "- We are splitting the vertical axis in this case."
      ]
    },
    {
      "cell_type": "code",
      "execution_count": null,
      "metadata": {
        "colab": {
          "base_uri": "https://localhost:8080/"
        },
        "id": "JIbFVHl1agv3",
        "outputId": "6b248c72-2f12-40c6-9588-31be48e0c2a0"
      },
      "outputs": [
        {
          "output_type": "execute_result",
          "data": {
            "text/plain": [
              "[array([[0., 1., 2., 3.],\n",
              "        [4., 5., 6., 7.]]),\n",
              " array([[ 8.,  9., 10., 11.],\n",
              "        [12., 13., 14., 15.]])]"
            ]
          },
          "metadata": {},
          "execution_count": 44
        }
      ],
      "source": [
        "np.vsplit(x, 2)"
      ]
    },
    {
      "cell_type": "code",
      "execution_count": null,
      "metadata": {
        "colab": {
          "base_uri": "https://localhost:8080/"
        },
        "id": "3dfHhDDjaoKW",
        "outputId": "16df812e-dc65-46bc-c3f6-ea34fd9ac3ad"
      },
      "outputs": [
        {
          "output_type": "execute_result",
          "data": {
            "text/plain": [
              "[array([[ 0.,  1.,  2.,  3.],\n",
              "        [ 4.,  5.,  6.,  7.],\n",
              "        [ 8.,  9., 10., 11.]]),\n",
              " array([[12., 13., 14., 15.]])]"
            ]
          },
          "metadata": {},
          "execution_count": 45
        }
      ],
      "source": [
        "np.vsplit(x, np.array([3]))"
      ]
    },
    {
      "cell_type": "markdown",
      "source": [
        "<img src=\"https://d2beiqkhq929f0.cloudfront.net/public_assets/assets/000/054/735/original/hvsp1.png?1698041133\" width=\"600\" height=\"400\">"
      ],
      "metadata": {
        "id": "p_Hh6l-kJHCC"
      }
    },
    {
      "cell_type": "markdown",
      "source": [
        "---"
      ],
      "metadata": {
        "id": "8kUZhaTAHeQy"
      }
    },
    {
      "cell_type": "markdown",
      "metadata": {
        "id": "SiT_xcieawQJ"
      },
      "source": [
        "## **Stacking**"
      ]
    },
    {
      "cell_type": "code",
      "source": [
        "a = np.arange(1, 5)\n",
        "b = np.arange(2, 6)\n",
        "c = np.arange(3, 7)"
      ],
      "metadata": {
        "id": "dUVhe9Y_KSC6"
      },
      "execution_count": null,
      "outputs": []
    },
    {
      "cell_type": "markdown",
      "metadata": {
        "id": "He-9NP8Ga9Zs"
      },
      "source": [
        "#### `np.vstack()`\n",
        "\n",
        "- Stacks a list of arrays **vertically (along axis 0 or 1st axis)**.\n",
        "- For **example**, **given a list of row vectors, appends the rows to form a matrix**."
      ]
    },
    {
      "cell_type": "code",
      "execution_count": null,
      "metadata": {
        "colab": {
          "base_uri": "https://localhost:8080/"
        },
        "id": "banhDiFsarjv",
        "outputId": "7e4f838f-33fc-47d6-ef42-87907a39da2f"
      },
      "outputs": [
        {
          "output_type": "execute_result",
          "data": {
            "text/plain": [
              "array([[2, 3, 4, 5],\n",
              "       [3, 4, 5, 6],\n",
              "       [1, 2, 3, 4]])"
            ]
          },
          "metadata": {},
          "execution_count": 47
        }
      ],
      "source": [
        "np.vstack([b, c, a])"
      ]
    },
    {
      "cell_type": "code",
      "source": [
        "a = np.arange(1, 5)\n",
        "b = np.arange(2, 4)\n",
        "c = np.arange(3, 10)"
      ],
      "metadata": {
        "id": "p68BVdbAKhHN"
      },
      "execution_count": null,
      "outputs": []
    },
    {
      "cell_type": "code",
      "source": [
        "np.vstack([b, c, a])"
      ],
      "metadata": {
        "colab": {
          "base_uri": "https://localhost:8080/",
          "height": 256
        },
        "id": "vKsGFs2bKkgL",
        "outputId": "6b9a7027-a4ed-47bb-ebad-ebb80f521291"
      },
      "execution_count": null,
      "outputs": [
        {
          "output_type": "error",
          "ename": "ValueError",
          "evalue": "all the input array dimensions for the concatenation axis must match exactly, but along dimension 1, the array at index 0 has size 2 and the array at index 1 has size 7",
          "traceback": [
            "\u001b[0;31m---------------------------------------------------------------------------\u001b[0m",
            "\u001b[0;31mValueError\u001b[0m                                Traceback (most recent call last)",
            "\u001b[0;32m<ipython-input-49-5148cb6ebc5f>\u001b[0m in \u001b[0;36m<cell line: 1>\u001b[0;34m()\u001b[0m\n\u001b[0;32m----> 1\u001b[0;31m \u001b[0mnp\u001b[0m\u001b[0;34m.\u001b[0m\u001b[0mvstack\u001b[0m\u001b[0;34m(\u001b[0m\u001b[0;34m[\u001b[0m\u001b[0mb\u001b[0m\u001b[0;34m,\u001b[0m \u001b[0mc\u001b[0m\u001b[0;34m,\u001b[0m \u001b[0ma\u001b[0m\u001b[0;34m]\u001b[0m\u001b[0;34m)\u001b[0m\u001b[0;34m\u001b[0m\u001b[0;34m\u001b[0m\u001b[0m\n\u001b[0m",
            "\u001b[0;32m/usr/local/lib/python3.10/dist-packages/numpy/core/overrides.py\u001b[0m in \u001b[0;36mvstack\u001b[0;34m(*args, **kwargs)\u001b[0m\n",
            "\u001b[0;32m/usr/local/lib/python3.10/dist-packages/numpy/core/shape_base.py\u001b[0m in \u001b[0;36mvstack\u001b[0;34m(tup)\u001b[0m\n\u001b[1;32m    280\u001b[0m     \u001b[0;32mif\u001b[0m \u001b[0;32mnot\u001b[0m \u001b[0misinstance\u001b[0m\u001b[0;34m(\u001b[0m\u001b[0marrs\u001b[0m\u001b[0;34m,\u001b[0m \u001b[0mlist\u001b[0m\u001b[0;34m)\u001b[0m\u001b[0;34m:\u001b[0m\u001b[0;34m\u001b[0m\u001b[0;34m\u001b[0m\u001b[0m\n\u001b[1;32m    281\u001b[0m         \u001b[0marrs\u001b[0m \u001b[0;34m=\u001b[0m \u001b[0;34m[\u001b[0m\u001b[0marrs\u001b[0m\u001b[0;34m]\u001b[0m\u001b[0;34m\u001b[0m\u001b[0;34m\u001b[0m\u001b[0m\n\u001b[0;32m--> 282\u001b[0;31m     \u001b[0;32mreturn\u001b[0m \u001b[0m_nx\u001b[0m\u001b[0;34m.\u001b[0m\u001b[0mconcatenate\u001b[0m\u001b[0;34m(\u001b[0m\u001b[0marrs\u001b[0m\u001b[0;34m,\u001b[0m \u001b[0;36m0\u001b[0m\u001b[0;34m)\u001b[0m\u001b[0;34m\u001b[0m\u001b[0;34m\u001b[0m\u001b[0m\n\u001b[0m\u001b[1;32m    283\u001b[0m \u001b[0;34m\u001b[0m\u001b[0m\n\u001b[1;32m    284\u001b[0m \u001b[0;34m\u001b[0m\u001b[0m\n",
            "\u001b[0;32m/usr/local/lib/python3.10/dist-packages/numpy/core/overrides.py\u001b[0m in \u001b[0;36mconcatenate\u001b[0;34m(*args, **kwargs)\u001b[0m\n",
            "\u001b[0;31mValueError\u001b[0m: all the input array dimensions for the concatenation axis must match exactly, but along dimension 1, the array at index 0 has size 2 and the array at index 1 has size 7"
          ]
        }
      ]
    },
    {
      "cell_type": "markdown",
      "source": [
        "---"
      ],
      "metadata": {
        "id": "FQOpSdxLI2_k"
      }
    },
    {
      "cell_type": "markdown",
      "source": [
        "#### `np.hstack`\n",
        "\n",
        "- Stacks a list of arrays **horizontally (along axis 1 or 2nd axis)**."
      ],
      "metadata": {
        "id": "LlyEM18mKtgj"
      }
    },
    {
      "cell_type": "code",
      "source": [
        "a = np.arange(5).reshape(5, 1)\n",
        "a"
      ],
      "metadata": {
        "id": "R6mpHZKSKxtw",
        "colab": {
          "base_uri": "https://localhost:8080/"
        },
        "outputId": "e056df9b-f54a-4491-ebfe-9b33754d0f97"
      },
      "execution_count": null,
      "outputs": [
        {
          "output_type": "execute_result",
          "data": {
            "text/plain": [
              "array([[0],\n",
              "       [1],\n",
              "       [2],\n",
              "       [3],\n",
              "       [4]])"
            ]
          },
          "metadata": {},
          "execution_count": 50
        }
      ]
    },
    {
      "cell_type": "code",
      "source": [
        "b = np.arange(15).reshape(5, 3)\n",
        "b"
      ],
      "metadata": {
        "id": "BXmZQzBKKz9B",
        "colab": {
          "base_uri": "https://localhost:8080/"
        },
        "outputId": "6d39c988-8093-4fdc-fe8e-ab4f0bf98124"
      },
      "execution_count": null,
      "outputs": [
        {
          "output_type": "execute_result",
          "data": {
            "text/plain": [
              "array([[ 0,  1,  2],\n",
              "       [ 3,  4,  5],\n",
              "       [ 6,  7,  8],\n",
              "       [ 9, 10, 11],\n",
              "       [12, 13, 14]])"
            ]
          },
          "metadata": {},
          "execution_count": 51
        }
      ]
    },
    {
      "cell_type": "code",
      "source": [
        "np.hstack([a, b])"
      ],
      "metadata": {
        "colab": {
          "base_uri": "https://localhost:8080/"
        },
        "id": "u_FedRfuK1m-",
        "outputId": "270e1c42-c98a-47e6-ac50-1b7e00fa7c49"
      },
      "execution_count": null,
      "outputs": [
        {
          "output_type": "execute_result",
          "data": {
            "text/plain": [
              "array([[ 0,  0,  1,  2],\n",
              "       [ 1,  3,  4,  5],\n",
              "       [ 2,  6,  7,  8],\n",
              "       [ 3,  9, 10, 11],\n",
              "       [ 4, 12, 13, 14]])"
            ]
          },
          "metadata": {},
          "execution_count": 52
        }
      ]
    },
    {
      "cell_type": "markdown",
      "source": [
        "---"
      ],
      "metadata": {
        "id": "yH5U4M6pJKI0"
      }
    },
    {
      "cell_type": "markdown",
      "metadata": {
        "id": "Wh398pCGcKzU"
      },
      "source": [
        "#### `np.concatenate()`\n",
        "\n",
        "- Can perform both vstack and hstack\n",
        "- Creates a new array by appending arrays after each other, along a given axis.\n",
        "\n",
        "Provides similar functionality, but it takes a **keyword argument `axis`** that specifies the **axis along which the arrays are to be concatenated**.\n",
        "\n",
        "The input array to `concatenate()` needs to be of dimensions atleast equal to the dimensions of output array."
      ]
    },
    {
      "cell_type": "code",
      "execution_count": null,
      "metadata": {
        "id": "ATdQUGbxb75A",
        "colab": {
          "base_uri": "https://localhost:8080/"
        },
        "outputId": "800a8f03-2fcd-4b45-d864-8f4bee8cd346"
      },
      "outputs": [
        {
          "output_type": "execute_result",
          "data": {
            "text/plain": [
              "array([1, 2, 3])"
            ]
          },
          "metadata": {},
          "execution_count": 53
        }
      ],
      "source": [
        "a = np.array([1,2,3])\n",
        "a\n"
      ]
    },
    {
      "cell_type": "code",
      "execution_count": null,
      "metadata": {
        "colab": {
          "base_uri": "https://localhost:8080/"
        },
        "id": "8qwps7KocRq2",
        "outputId": "cd01e3d5-9b43-4799-d92d-c37093cd5060"
      },
      "outputs": [
        {
          "output_type": "execute_result",
          "data": {
            "text/plain": [
              "array([[1, 2, 3],\n",
              "       [4, 5, 6]])"
            ]
          },
          "metadata": {},
          "execution_count": 54
        }
      ],
      "source": [
        "b = np.array([[1,2,3], [4,5,6]])\n",
        "b"
      ]
    },
    {
      "cell_type": "code",
      "execution_count": null,
      "metadata": {
        "colab": {
          "base_uri": "https://localhost:8080/",
          "height": 214
        },
        "id": "-1mVU2c2cjgA",
        "outputId": "7848b9e7-40df-43f0-f45a-43e6996c4731"
      },
      "outputs": [
        {
          "output_type": "error",
          "ename": "ValueError",
          "evalue": "all the input arrays must have same number of dimensions, but the array at index 0 has 1 dimension(s) and the array at index 1 has 2 dimension(s)",
          "traceback": [
            "\u001b[0;31m---------------------------------------------------------------------------\u001b[0m",
            "\u001b[0;31mValueError\u001b[0m                                Traceback (most recent call last)",
            "\u001b[0;32m<ipython-input-55-1a93c4fe21df>\u001b[0m in \u001b[0;36m<cell line: 1>\u001b[0;34m()\u001b[0m\n\u001b[0;32m----> 1\u001b[0;31m \u001b[0mnp\u001b[0m\u001b[0;34m.\u001b[0m\u001b[0mconcatenate\u001b[0m\u001b[0;34m(\u001b[0m\u001b[0;34m[\u001b[0m\u001b[0ma\u001b[0m\u001b[0;34m,\u001b[0m \u001b[0mb\u001b[0m\u001b[0;34m]\u001b[0m\u001b[0;34m,\u001b[0m \u001b[0maxis\u001b[0m \u001b[0;34m=\u001b[0m \u001b[0;36m0\u001b[0m\u001b[0;34m)\u001b[0m\u001b[0;34m\u001b[0m\u001b[0;34m\u001b[0m\u001b[0m\n\u001b[0m",
            "\u001b[0;32m/usr/local/lib/python3.10/dist-packages/numpy/core/overrides.py\u001b[0m in \u001b[0;36mconcatenate\u001b[0;34m(*args, **kwargs)\u001b[0m\n",
            "\u001b[0;31mValueError\u001b[0m: all the input arrays must have same number of dimensions, but the array at index 0 has 1 dimension(s) and the array at index 1 has 2 dimension(s)"
          ]
        }
      ],
      "source": [
        "np.concatenate([a, b], axis=0)"
      ]
    },
    {
      "cell_type": "markdown",
      "source": [
        "**`concatenate()` can only work if both `a` and `b` have the same number of dimensions**"
      ],
      "metadata": {
        "id": "qopGWMoxLGXL"
      }
    },
    {
      "cell_type": "code",
      "source": [
        "a = np.array([[1,2,3]])\n",
        "b = np.array([[1,2,3], [4,5,6]])"
      ],
      "metadata": {
        "id": "vVFuJy2ELQri"
      },
      "execution_count": null,
      "outputs": []
    },
    {
      "cell_type": "code",
      "source": [
        "np.concatenate([a, b], axis = 0) # axis=0 -> vstack"
      ],
      "metadata": {
        "colab": {
          "base_uri": "https://localhost:8080/"
        },
        "id": "gbIP-MywLSJ1",
        "outputId": "8b40d6ec-da93-4f95-a6d2-d7eee99d0bea"
      },
      "execution_count": null,
      "outputs": [
        {
          "output_type": "execute_result",
          "data": {
            "text/plain": [
              "array([[1, 2, 3],\n",
              "       [1, 2, 3],\n",
              "       [4, 5, 6]])"
            ]
          },
          "metadata": {},
          "execution_count": 57
        }
      ]
    },
    {
      "cell_type": "code",
      "source": [
        "a = np.arange(6).reshape(3, 2)\n",
        "b = np.arange(9).reshape(3, 3)"
      ],
      "metadata": {
        "id": "SM_OnSqcLTsQ"
      },
      "execution_count": null,
      "outputs": []
    },
    {
      "cell_type": "code",
      "source": [
        "np.concatenate([a, b], axis = 1) # axis=1 -> hstack"
      ],
      "metadata": {
        "colab": {
          "base_uri": "https://localhost:8080/"
        },
        "id": "HZqBbDEGLVPN",
        "outputId": "b269a563-3407-45ec-e48e-7b744d18ca3e"
      },
      "execution_count": null,
      "outputs": [
        {
          "output_type": "execute_result",
          "data": {
            "text/plain": [
              "array([[0, 1, 0, 1, 2],\n",
              "       [2, 3, 3, 4, 5],\n",
              "       [4, 5, 6, 7, 8]])"
            ]
          },
          "metadata": {},
          "execution_count": 59
        }
      ]
    },
    {
      "cell_type": "code",
      "source": [
        "a = np.array([[1,2], [3,4]])\n",
        "b = np.array([[5,6,7,8]])"
      ],
      "metadata": {
        "id": "S9Kn1mzYLaGq"
      },
      "execution_count": null,
      "outputs": []
    },
    {
      "cell_type": "code",
      "source": [
        "np.concatenate([a, b], axis = None)\n",
        "\n",
        "# axis=None joins and converts to 1D"
      ],
      "metadata": {
        "colab": {
          "base_uri": "https://localhost:8080/"
        },
        "id": "cL94_P26Lbvn",
        "outputId": "c7f4895b-3813-4f9a-96e8-854f350370fb"
      },
      "execution_count": null,
      "outputs": [
        {
          "output_type": "execute_result",
          "data": {
            "text/plain": [
              "array([1, 2, 3, 4, 5, 6, 7, 8])"
            ]
          },
          "metadata": {},
          "execution_count": 61
        }
      ]
    },
    {
      "cell_type": "markdown",
      "source": [
        "---"
      ],
      "metadata": {
        "id": "bWmTwuWjMvYD"
      }
    },
    {
      "cell_type": "markdown",
      "metadata": {
        "id": "KNdV4vHbcnzm"
      },
      "source": [
        "**Question:** What will be the output of this?\n",
        "\n",
        "```\n",
        "a = np.array([[1, 2], [3, 4]])\n",
        "b = np.array([[5, 6]])\n",
        "np.concatenate((a, b), axis=0)\n",
        "```"
      ]
    },
    {
      "cell_type": "code",
      "execution_count": null,
      "metadata": {
        "colab": {
          "base_uri": "https://localhost:8080/"
        },
        "id": "fAIjc0PJck-a",
        "outputId": "18dc8214-4496-402c-c223-ea190034f991"
      },
      "outputs": [
        {
          "output_type": "execute_result",
          "data": {
            "text/plain": [
              "array([[1, 2],\n",
              "       [3, 4]])"
            ]
          },
          "metadata": {},
          "execution_count": 62
        }
      ],
      "source": [
        "a = np.array([[1, 2], [3, 4]])\n",
        "a"
      ]
    },
    {
      "cell_type": "code",
      "execution_count": null,
      "metadata": {
        "colab": {
          "base_uri": "https://localhost:8080/"
        },
        "id": "HK1sI_CucviV",
        "outputId": "e87628de-29ec-4912-ad73-1c0a0638363a"
      },
      "outputs": [
        {
          "output_type": "execute_result",
          "data": {
            "text/plain": [
              "array([[5, 6]])"
            ]
          },
          "metadata": {},
          "execution_count": 63
        }
      ],
      "source": [
        "b = np.array([[5, 6]])\n",
        "b"
      ]
    },
    {
      "cell_type": "code",
      "execution_count": null,
      "metadata": {
        "colab": {
          "base_uri": "https://localhost:8080/"
        },
        "id": "I6oQxiCdcxSv",
        "outputId": "54becc07-dd42-4620-d0e6-0b080fdbcce0"
      },
      "outputs": [
        {
          "output_type": "execute_result",
          "data": {
            "text/plain": [
              "array([[1, 2],\n",
              "       [3, 4],\n",
              "       [5, 6]])"
            ]
          },
          "metadata": {},
          "execution_count": 64
        }
      ],
      "source": [
        "np.concatenate((a, b), axis=0)"
      ]
    },
    {
      "cell_type": "markdown",
      "metadata": {
        "id": "oCLUrWZHc6ch"
      },
      "source": [
        "**How did it work?**\n",
        "\n",
        "- Dimensions of `a` is $2\\times2$\n",
        "\n",
        "**What is the dimensions of `b` ?**\n",
        "\n",
        "- 1-D array ?? - **NO**\n",
        "- Look carefully!!\n",
        "- **`b` is a 2-D array of dimensions $1\\times2$**\n",
        "\n",
        "**`axis = 0` $\\rightarrow$ It's a vertical axis**\n",
        "\n",
        "- So, **changes will happen along vertical axis**\n",
        "- So, **`b` gets concatenated below `a`**"
      ]
    },
    {
      "cell_type": "markdown",
      "source": [
        "---"
      ],
      "metadata": {
        "id": "Wys-LFGitU1a"
      }
    },
    {
      "cell_type": "markdown",
      "metadata": {
        "id": "vjQWNJxKjHfy"
      },
      "source": [
        "**Question:** What will be the result of this concatenation operation?\n",
        "\n",
        "```\n",
        "a = np.array([[1, 2], [3, 4]])\n",
        "b = np.array([[5, 6]])\n",
        "np.concatenate((a, b.T), axis=1)\n",
        "```"
      ]
    },
    {
      "cell_type": "code",
      "execution_count": null,
      "metadata": {
        "colab": {
          "base_uri": "https://localhost:8080/"
        },
        "id": "g5WQdyEK1t2J",
        "outputId": "b01973b9-1b65-425a-9970-9300b4f6b2a8"
      },
      "outputs": [
        {
          "output_type": "execute_result",
          "data": {
            "text/plain": [
              "array([[1, 2],\n",
              "       [3, 4]])"
            ]
          },
          "metadata": {},
          "execution_count": 65
        }
      ],
      "source": [
        "a = np.array([[1, 2], [3, 4]])\n",
        "a"
      ]
    },
    {
      "cell_type": "code",
      "source": [
        "b = np.array([[5, 6]])\n",
        "b"
      ],
      "metadata": {
        "id": "EwZzeQ90NHgv",
        "colab": {
          "base_uri": "https://localhost:8080/"
        },
        "outputId": "7e2d58b0-7ccf-4532-a25d-7ff07587d03b"
      },
      "execution_count": null,
      "outputs": [
        {
          "output_type": "execute_result",
          "data": {
            "text/plain": [
              "array([[5, 6]])"
            ]
          },
          "metadata": {},
          "execution_count": 66
        }
      ]
    },
    {
      "cell_type": "code",
      "source": [
        "np.concatenate((a, b.T), axis=1)"
      ],
      "metadata": {
        "id": "dWc62YdyNKJR",
        "colab": {
          "base_uri": "https://localhost:8080/"
        },
        "outputId": "374f0b24-9433-41e1-f48b-a0b941702a6f"
      },
      "execution_count": null,
      "outputs": [
        {
          "output_type": "execute_result",
          "data": {
            "text/plain": [
              "array([[1, 2, 5],\n",
              "       [3, 4, 6]])"
            ]
          },
          "metadata": {},
          "execution_count": 67
        }
      ]
    },
    {
      "cell_type": "markdown",
      "metadata": {
        "id": "x0_5X7Yq1t2K"
      },
      "source": [
        "**What happened here?**\n",
        "\n",
        "- **Dimensions of `a`** is again $2\\times2$\n",
        "- **Dimensions of `b`** is again $1\\times2$\n",
        "- So, **Dimensions of `b.T`** will be $2\\times1$\n",
        "\n",
        "**`axis = 1`** $\\rightarrow$ It's a horizontal axis\n",
        "\n",
        "- So, **changes will happen along horizontal axis**\n",
        "- So, **`b.T` gets concatenated horizontally to `a`**"
      ]
    },
    {
      "cell_type": "markdown",
      "source": [
        "---"
      ],
      "metadata": {
        "id": "p1F5evdfrWma"
      }
    },
    {
      "cell_type": "markdown",
      "source": [
        "### Extra-reading material\n",
        "\n",
        "- [Image Manipulation](https://colab.research.google.com/drive/1SkyA5iF7UTDR8VFhCWEy525XlcaJ8YdI#scrollTo=VBD8uhb9M63e)"
      ],
      "metadata": {
        "id": "ZyCZ6x2bsRxL"
      }
    }
  ],
  "metadata": {
    "colab": {
      "provenance": []
    },
    "kernelspec": {
      "display_name": "Python 3",
      "name": "python3"
    },
    "language_info": {
      "name": "python"
    }
  },
  "nbformat": 4,
  "nbformat_minor": 0
}